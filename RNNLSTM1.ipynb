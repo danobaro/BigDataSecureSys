{
  "nbformat": 4,
  "nbformat_minor": 0,
  "metadata": {
    "colab": {
      "provenance": [],
      "authorship_tag": "ABX9TyNqZz4f4nUYxU7SHrmeKd1I",
      "include_colab_link": true
    },
    "kernelspec": {
      "name": "python3",
      "display_name": "Python 3"
    },
    "language_info": {
      "name": "python"
    }
  },
  "cells": [
    {
      "cell_type": "markdown",
      "metadata": {
        "id": "view-in-github",
        "colab_type": "text"
      },
      "source": [
        "<a href=\"https://colab.research.google.com/github/danobaro/BigDataSecureSys/blob/main/RNNLSTM1.ipynb\" target=\"_parent\"><img src=\"https://colab.research.google.com/assets/colab-badge.svg\" alt=\"Open In Colab\"/></a>"
      ]
    },
    {
      "cell_type": "code",
      "source": [
        "!pip install scikeras  # Install the scikeras package"
      ],
      "metadata": {
        "colab": {
          "base_uri": "https://localhost:8080/"
        },
        "id": "CvY_eJUqIK74",
        "outputId": "d85a8e63-dbc1-47c3-a3e0-505c816a8796"
      },
      "execution_count": 7,
      "outputs": [
        {
          "output_type": "stream",
          "name": "stdout",
          "text": [
            "Requirement already satisfied: scikeras in /usr/local/lib/python3.10/dist-packages (0.13.0)\n",
            "Requirement already satisfied: keras>=3.2.0 in /usr/local/lib/python3.10/dist-packages (from scikeras) (3.4.1)\n",
            "Requirement already satisfied: scikit-learn>=1.4.2 in /usr/local/lib/python3.10/dist-packages (from scikeras) (1.5.0)\n",
            "Requirement already satisfied: absl-py in /usr/local/lib/python3.10/dist-packages (from keras>=3.2.0->scikeras) (1.4.0)\n",
            "Requirement already satisfied: numpy in /usr/local/lib/python3.10/dist-packages (from keras>=3.2.0->scikeras) (1.25.2)\n",
            "Requirement already satisfied: rich in /usr/local/lib/python3.10/dist-packages (from keras>=3.2.0->scikeras) (13.7.1)\n",
            "Requirement already satisfied: namex in /usr/local/lib/python3.10/dist-packages (from keras>=3.2.0->scikeras) (0.0.8)\n",
            "Requirement already satisfied: h5py in /usr/local/lib/python3.10/dist-packages (from keras>=3.2.0->scikeras) (3.11.0)\n",
            "Requirement already satisfied: optree in /usr/local/lib/python3.10/dist-packages (from keras>=3.2.0->scikeras) (0.11.0)\n",
            "Requirement already satisfied: ml-dtypes in /usr/local/lib/python3.10/dist-packages (from keras>=3.2.0->scikeras) (0.3.2)\n",
            "Requirement already satisfied: packaging in /usr/local/lib/python3.10/dist-packages (from keras>=3.2.0->scikeras) (24.1)\n",
            "Requirement already satisfied: scipy>=1.6.0 in /usr/local/lib/python3.10/dist-packages (from scikit-learn>=1.4.2->scikeras) (1.11.4)\n",
            "Requirement already satisfied: joblib>=1.2.0 in /usr/local/lib/python3.10/dist-packages (from scikit-learn>=1.4.2->scikeras) (1.4.2)\n",
            "Requirement already satisfied: threadpoolctl>=3.1.0 in /usr/local/lib/python3.10/dist-packages (from scikit-learn>=1.4.2->scikeras) (3.5.0)\n",
            "Requirement already satisfied: typing-extensions>=4.0.0 in /usr/local/lib/python3.10/dist-packages (from optree->keras>=3.2.0->scikeras) (4.12.2)\n",
            "Requirement already satisfied: markdown-it-py>=2.2.0 in /usr/local/lib/python3.10/dist-packages (from rich->keras>=3.2.0->scikeras) (3.0.0)\n",
            "Requirement already satisfied: pygments<3.0.0,>=2.13.0 in /usr/local/lib/python3.10/dist-packages (from rich->keras>=3.2.0->scikeras) (2.16.1)\n",
            "Requirement already satisfied: mdurl~=0.1 in /usr/local/lib/python3.10/dist-packages (from markdown-it-py>=2.2.0->rich->keras>=3.2.0->scikeras) (0.1.2)\n"
          ]
        }
      ]
    },
    {
      "cell_type": "code",
      "source": [
        "!pip install tensorflow\n",
        "!pip install interpret\n",
        "!pip install shap\n",
        "!pip install lime"
      ],
      "metadata": {
        "colab": {
          "base_uri": "https://localhost:8080/"
        },
        "id": "CAivuo2SxVHP",
        "outputId": "520230c9-2f9e-4cb9-9855-d6ae051ffd59"
      },
      "execution_count": 3,
      "outputs": [
        {
          "output_type": "stream",
          "name": "stdout",
          "text": [
            "Requirement already satisfied: tensorflow in /usr/local/lib/python3.10/dist-packages (2.16.2)\n",
            "Requirement already satisfied: absl-py>=1.0.0 in /usr/local/lib/python3.10/dist-packages (from tensorflow) (1.4.0)\n",
            "Requirement already satisfied: astunparse>=1.6.0 in /usr/local/lib/python3.10/dist-packages (from tensorflow) (1.6.3)\n",
            "Requirement already satisfied: flatbuffers>=23.5.26 in /usr/local/lib/python3.10/dist-packages (from tensorflow) (24.3.25)\n",
            "Requirement already satisfied: gast!=0.5.0,!=0.5.1,!=0.5.2,>=0.2.1 in /usr/local/lib/python3.10/dist-packages (from tensorflow) (0.5.4)\n",
            "Requirement already satisfied: google-pasta>=0.1.1 in /usr/local/lib/python3.10/dist-packages (from tensorflow) (0.2.0)\n",
            "Requirement already satisfied: h5py>=3.10.0 in /usr/local/lib/python3.10/dist-packages (from tensorflow) (3.11.0)\n",
            "Requirement already satisfied: libclang>=13.0.0 in /usr/local/lib/python3.10/dist-packages (from tensorflow) (18.1.1)\n",
            "Requirement already satisfied: ml-dtypes~=0.3.1 in /usr/local/lib/python3.10/dist-packages (from tensorflow) (0.3.2)\n",
            "Requirement already satisfied: opt-einsum>=2.3.2 in /usr/local/lib/python3.10/dist-packages (from tensorflow) (3.3.0)\n",
            "Requirement already satisfied: packaging in /usr/local/lib/python3.10/dist-packages (from tensorflow) (24.1)\n",
            "Requirement already satisfied: protobuf!=4.21.0,!=4.21.1,!=4.21.2,!=4.21.3,!=4.21.4,!=4.21.5,<5.0.0dev,>=3.20.3 in /usr/local/lib/python3.10/dist-packages (from tensorflow) (3.20.3)\n",
            "Requirement already satisfied: requests<3,>=2.21.0 in /usr/local/lib/python3.10/dist-packages (from tensorflow) (2.31.0)\n",
            "Requirement already satisfied: setuptools in /usr/local/lib/python3.10/dist-packages (from tensorflow) (67.7.2)\n",
            "Requirement already satisfied: six>=1.12.0 in /usr/local/lib/python3.10/dist-packages (from tensorflow) (1.16.0)\n",
            "Requirement already satisfied: termcolor>=1.1.0 in /usr/local/lib/python3.10/dist-packages (from tensorflow) (2.4.0)\n",
            "Requirement already satisfied: typing-extensions>=3.6.6 in /usr/local/lib/python3.10/dist-packages (from tensorflow) (4.12.2)\n",
            "Requirement already satisfied: wrapt>=1.11.0 in /usr/local/lib/python3.10/dist-packages (from tensorflow) (1.14.1)\n",
            "Requirement already satisfied: grpcio<2.0,>=1.24.3 in /usr/local/lib/python3.10/dist-packages (from tensorflow) (1.64.1)\n",
            "Requirement already satisfied: tensorboard<2.17,>=2.16 in /usr/local/lib/python3.10/dist-packages (from tensorflow) (2.16.2)\n",
            "Requirement already satisfied: keras>=3.0.0 in /usr/local/lib/python3.10/dist-packages (from tensorflow) (3.4.1)\n",
            "Requirement already satisfied: tensorflow-io-gcs-filesystem>=0.23.1 in /usr/local/lib/python3.10/dist-packages (from tensorflow) (0.37.0)\n",
            "Requirement already satisfied: numpy<2.0.0,>=1.23.5 in /usr/local/lib/python3.10/dist-packages (from tensorflow) (1.25.2)\n",
            "Requirement already satisfied: wheel<1.0,>=0.23.0 in /usr/local/lib/python3.10/dist-packages (from astunparse>=1.6.0->tensorflow) (0.43.0)\n",
            "Requirement already satisfied: rich in /usr/local/lib/python3.10/dist-packages (from keras>=3.0.0->tensorflow) (13.7.1)\n",
            "Requirement already satisfied: namex in /usr/local/lib/python3.10/dist-packages (from keras>=3.0.0->tensorflow) (0.0.8)\n",
            "Requirement already satisfied: optree in /usr/local/lib/python3.10/dist-packages (from keras>=3.0.0->tensorflow) (0.11.0)\n",
            "Requirement already satisfied: charset-normalizer<4,>=2 in /usr/local/lib/python3.10/dist-packages (from requests<3,>=2.21.0->tensorflow) (3.3.2)\n",
            "Requirement already satisfied: idna<4,>=2.5 in /usr/local/lib/python3.10/dist-packages (from requests<3,>=2.21.0->tensorflow) (3.7)\n",
            "Requirement already satisfied: urllib3<3,>=1.21.1 in /usr/local/lib/python3.10/dist-packages (from requests<3,>=2.21.0->tensorflow) (2.0.7)\n",
            "Requirement already satisfied: certifi>=2017.4.17 in /usr/local/lib/python3.10/dist-packages (from requests<3,>=2.21.0->tensorflow) (2024.6.2)\n",
            "Requirement already satisfied: markdown>=2.6.8 in /usr/local/lib/python3.10/dist-packages (from tensorboard<2.17,>=2.16->tensorflow) (3.6)\n",
            "Requirement already satisfied: tensorboard-data-server<0.8.0,>=0.7.0 in /usr/local/lib/python3.10/dist-packages (from tensorboard<2.17,>=2.16->tensorflow) (0.7.2)\n",
            "Requirement already satisfied: werkzeug>=1.0.1 in /usr/local/lib/python3.10/dist-packages (from tensorboard<2.17,>=2.16->tensorflow) (3.0.3)\n",
            "Requirement already satisfied: MarkupSafe>=2.1.1 in /usr/local/lib/python3.10/dist-packages (from werkzeug>=1.0.1->tensorboard<2.17,>=2.16->tensorflow) (2.1.5)\n",
            "Requirement already satisfied: markdown-it-py>=2.2.0 in /usr/local/lib/python3.10/dist-packages (from rich->keras>=3.0.0->tensorflow) (3.0.0)\n",
            "Requirement already satisfied: pygments<3.0.0,>=2.13.0 in /usr/local/lib/python3.10/dist-packages (from rich->keras>=3.0.0->tensorflow) (2.16.1)\n",
            "Requirement already satisfied: mdurl~=0.1 in /usr/local/lib/python3.10/dist-packages (from markdown-it-py>=2.2.0->rich->keras>=3.0.0->tensorflow) (0.1.2)\n",
            "Requirement already satisfied: interpret in /usr/local/lib/python3.10/dist-packages (0.6.2)\n",
            "Requirement already satisfied: interpret-core[dash,debug,linear,notebook,plotly,sensitivity,shap]==0.6.2 in /usr/local/lib/python3.10/dist-packages (from interpret) (0.6.2)\n",
            "Requirement already satisfied: numpy>=1.11.1 in /usr/local/lib/python3.10/dist-packages (from interpret-core[dash,debug,linear,notebook,plotly,sensitivity,shap]==0.6.2->interpret) (1.25.2)\n",
            "Requirement already satisfied: scipy>=0.18.1 in /usr/local/lib/python3.10/dist-packages (from interpret-core[dash,debug,linear,notebook,plotly,sensitivity,shap]==0.6.2->interpret) (1.11.4)\n",
            "Requirement already satisfied: pandas>=0.19.2 in /usr/local/lib/python3.10/dist-packages (from interpret-core[dash,debug,linear,notebook,plotly,sensitivity,shap]==0.6.2->interpret) (2.0.3)\n",
            "Requirement already satisfied: scikit-learn>=0.18.1 in /usr/local/lib/python3.10/dist-packages (from interpret-core[dash,debug,linear,notebook,plotly,sensitivity,shap]==0.6.2->interpret) (1.5.0)\n",
            "Requirement already satisfied: joblib>=0.11 in /usr/local/lib/python3.10/dist-packages (from interpret-core[dash,debug,linear,notebook,plotly,sensitivity,shap]==0.6.2->interpret) (1.4.2)\n",
            "Requirement already satisfied: plotly>=3.8.1 in /usr/local/lib/python3.10/dist-packages (from interpret-core[dash,debug,linear,notebook,plotly,sensitivity,shap]==0.6.2->interpret) (5.15.0)\n",
            "Requirement already satisfied: psutil>=5.6.2 in /usr/local/lib/python3.10/dist-packages (from interpret-core[dash,debug,linear,notebook,plotly,sensitivity,shap]==0.6.2->interpret) (5.9.5)\n",
            "Requirement already satisfied: dash>=1.0.0 in /usr/local/lib/python3.10/dist-packages (from interpret-core[dash,debug,linear,notebook,plotly,sensitivity,shap]==0.6.2->interpret) (2.17.1)\n",
            "Requirement already satisfied: dash-core-components>=1.0.0 in /usr/local/lib/python3.10/dist-packages (from interpret-core[dash,debug,linear,notebook,plotly,sensitivity,shap]==0.6.2->interpret) (2.0.0)\n",
            "Requirement already satisfied: dash-html-components>=1.0.0 in /usr/local/lib/python3.10/dist-packages (from interpret-core[dash,debug,linear,notebook,plotly,sensitivity,shap]==0.6.2->interpret) (2.0.0)\n",
            "Requirement already satisfied: dash-table>=4.1.0 in /usr/local/lib/python3.10/dist-packages (from interpret-core[dash,debug,linear,notebook,plotly,sensitivity,shap]==0.6.2->interpret) (5.0.0)\n",
            "Requirement already satisfied: dash-cytoscape>=0.1.1 in /usr/local/lib/python3.10/dist-packages (from interpret-core[dash,debug,linear,notebook,plotly,sensitivity,shap]==0.6.2->interpret) (1.0.1)\n",
            "Requirement already satisfied: gevent>=1.3.6 in /usr/local/lib/python3.10/dist-packages (from interpret-core[dash,debug,linear,notebook,plotly,sensitivity,shap]==0.6.2->interpret) (24.2.1)\n",
            "Requirement already satisfied: requests>=2.19.0 in /usr/local/lib/python3.10/dist-packages (from interpret-core[dash,debug,linear,notebook,plotly,sensitivity,shap]==0.6.2->interpret) (2.31.0)\n",
            "Requirement already satisfied: SALib>=1.3.3 in /usr/local/lib/python3.10/dist-packages (from interpret-core[dash,debug,linear,notebook,plotly,sensitivity,shap]==0.6.2->interpret) (1.5.0)\n",
            "Requirement already satisfied: ipykernel>=4.10.0 in /usr/local/lib/python3.10/dist-packages (from interpret-core[dash,debug,linear,notebook,plotly,sensitivity,shap]==0.6.2->interpret) (5.5.6)\n",
            "Requirement already satisfied: ipython>=5.5.0 in /usr/local/lib/python3.10/dist-packages (from interpret-core[dash,debug,linear,notebook,plotly,sensitivity,shap]==0.6.2->interpret) (7.34.0)\n",
            "Requirement already satisfied: shap>=0.28.5 in /usr/local/lib/python3.10/dist-packages (from interpret-core[dash,debug,linear,notebook,plotly,sensitivity,shap]==0.6.2->interpret) (0.46.0)\n",
            "Requirement already satisfied: dill>=0.2.5 in /usr/local/lib/python3.10/dist-packages (from interpret-core[dash,debug,linear,notebook,plotly,sensitivity,shap]==0.6.2->interpret) (0.3.8)\n",
            "Requirement already satisfied: Flask<3.1,>=1.0.4 in /usr/local/lib/python3.10/dist-packages (from dash>=1.0.0->interpret-core[dash,debug,linear,notebook,plotly,sensitivity,shap]==0.6.2->interpret) (2.2.5)\n",
            "Requirement already satisfied: Werkzeug<3.1 in /usr/local/lib/python3.10/dist-packages (from dash>=1.0.0->interpret-core[dash,debug,linear,notebook,plotly,sensitivity,shap]==0.6.2->interpret) (3.0.3)\n",
            "Requirement already satisfied: importlib-metadata in /usr/local/lib/python3.10/dist-packages (from dash>=1.0.0->interpret-core[dash,debug,linear,notebook,plotly,sensitivity,shap]==0.6.2->interpret) (7.2.0)\n",
            "Requirement already satisfied: typing-extensions>=4.1.1 in /usr/local/lib/python3.10/dist-packages (from dash>=1.0.0->interpret-core[dash,debug,linear,notebook,plotly,sensitivity,shap]==0.6.2->interpret) (4.12.2)\n",
            "Requirement already satisfied: retrying in /usr/local/lib/python3.10/dist-packages (from dash>=1.0.0->interpret-core[dash,debug,linear,notebook,plotly,sensitivity,shap]==0.6.2->interpret) (1.3.4)\n",
            "Requirement already satisfied: nest-asyncio in /usr/local/lib/python3.10/dist-packages (from dash>=1.0.0->interpret-core[dash,debug,linear,notebook,plotly,sensitivity,shap]==0.6.2->interpret) (1.6.0)\n",
            "Requirement already satisfied: setuptools in /usr/local/lib/python3.10/dist-packages (from dash>=1.0.0->interpret-core[dash,debug,linear,notebook,plotly,sensitivity,shap]==0.6.2->interpret) (67.7.2)\n",
            "Requirement already satisfied: zope.event in /usr/local/lib/python3.10/dist-packages (from gevent>=1.3.6->interpret-core[dash,debug,linear,notebook,plotly,sensitivity,shap]==0.6.2->interpret) (5.0)\n",
            "Requirement already satisfied: zope.interface in /usr/local/lib/python3.10/dist-packages (from gevent>=1.3.6->interpret-core[dash,debug,linear,notebook,plotly,sensitivity,shap]==0.6.2->interpret) (6.4.post2)\n",
            "Requirement already satisfied: greenlet>=2.0.0 in /usr/local/lib/python3.10/dist-packages (from gevent>=1.3.6->interpret-core[dash,debug,linear,notebook,plotly,sensitivity,shap]==0.6.2->interpret) (3.0.3)\n",
            "Requirement already satisfied: ipython-genutils in /usr/local/lib/python3.10/dist-packages (from ipykernel>=4.10.0->interpret-core[dash,debug,linear,notebook,plotly,sensitivity,shap]==0.6.2->interpret) (0.2.0)\n",
            "Requirement already satisfied: traitlets>=4.1.0 in /usr/local/lib/python3.10/dist-packages (from ipykernel>=4.10.0->interpret-core[dash,debug,linear,notebook,plotly,sensitivity,shap]==0.6.2->interpret) (5.7.1)\n",
            "Requirement already satisfied: jupyter-client in /usr/local/lib/python3.10/dist-packages (from ipykernel>=4.10.0->interpret-core[dash,debug,linear,notebook,plotly,sensitivity,shap]==0.6.2->interpret) (6.1.12)\n",
            "Requirement already satisfied: tornado>=4.2 in /usr/local/lib/python3.10/dist-packages (from ipykernel>=4.10.0->interpret-core[dash,debug,linear,notebook,plotly,sensitivity,shap]==0.6.2->interpret) (6.3.3)\n",
            "Requirement already satisfied: jedi>=0.16 in /usr/local/lib/python3.10/dist-packages (from ipython>=5.5.0->interpret-core[dash,debug,linear,notebook,plotly,sensitivity,shap]==0.6.2->interpret) (0.19.1)\n",
            "Requirement already satisfied: decorator in /usr/local/lib/python3.10/dist-packages (from ipython>=5.5.0->interpret-core[dash,debug,linear,notebook,plotly,sensitivity,shap]==0.6.2->interpret) (4.4.2)\n",
            "Requirement already satisfied: pickleshare in /usr/local/lib/python3.10/dist-packages (from ipython>=5.5.0->interpret-core[dash,debug,linear,notebook,plotly,sensitivity,shap]==0.6.2->interpret) (0.7.5)\n",
            "Requirement already satisfied: prompt-toolkit!=3.0.0,!=3.0.1,<3.1.0,>=2.0.0 in /usr/local/lib/python3.10/dist-packages (from ipython>=5.5.0->interpret-core[dash,debug,linear,notebook,plotly,sensitivity,shap]==0.6.2->interpret) (3.0.47)\n",
            "Requirement already satisfied: pygments in /usr/local/lib/python3.10/dist-packages (from ipython>=5.5.0->interpret-core[dash,debug,linear,notebook,plotly,sensitivity,shap]==0.6.2->interpret) (2.16.1)\n",
            "Requirement already satisfied: backcall in /usr/local/lib/python3.10/dist-packages (from ipython>=5.5.0->interpret-core[dash,debug,linear,notebook,plotly,sensitivity,shap]==0.6.2->interpret) (0.2.0)\n",
            "Requirement already satisfied: matplotlib-inline in /usr/local/lib/python3.10/dist-packages (from ipython>=5.5.0->interpret-core[dash,debug,linear,notebook,plotly,sensitivity,shap]==0.6.2->interpret) (0.1.7)\n",
            "Requirement already satisfied: pexpect>4.3 in /usr/local/lib/python3.10/dist-packages (from ipython>=5.5.0->interpret-core[dash,debug,linear,notebook,plotly,sensitivity,shap]==0.6.2->interpret) (4.9.0)\n",
            "Requirement already satisfied: python-dateutil>=2.8.2 in /usr/local/lib/python3.10/dist-packages (from pandas>=0.19.2->interpret-core[dash,debug,linear,notebook,plotly,sensitivity,shap]==0.6.2->interpret) (2.8.2)\n",
            "Requirement already satisfied: pytz>=2020.1 in /usr/local/lib/python3.10/dist-packages (from pandas>=0.19.2->interpret-core[dash,debug,linear,notebook,plotly,sensitivity,shap]==0.6.2->interpret) (2023.4)\n",
            "Requirement already satisfied: tzdata>=2022.1 in /usr/local/lib/python3.10/dist-packages (from pandas>=0.19.2->interpret-core[dash,debug,linear,notebook,plotly,sensitivity,shap]==0.6.2->interpret) (2024.1)\n",
            "Requirement already satisfied: tenacity>=6.2.0 in /usr/local/lib/python3.10/dist-packages (from plotly>=3.8.1->interpret-core[dash,debug,linear,notebook,plotly,sensitivity,shap]==0.6.2->interpret) (8.4.1)\n",
            "Requirement already satisfied: packaging in /usr/local/lib/python3.10/dist-packages (from plotly>=3.8.1->interpret-core[dash,debug,linear,notebook,plotly,sensitivity,shap]==0.6.2->interpret) (24.1)\n",
            "Requirement already satisfied: charset-normalizer<4,>=2 in /usr/local/lib/python3.10/dist-packages (from requests>=2.19.0->interpret-core[dash,debug,linear,notebook,plotly,sensitivity,shap]==0.6.2->interpret) (3.3.2)\n",
            "Requirement already satisfied: idna<4,>=2.5 in /usr/local/lib/python3.10/dist-packages (from requests>=2.19.0->interpret-core[dash,debug,linear,notebook,plotly,sensitivity,shap]==0.6.2->interpret) (3.7)\n",
            "Requirement already satisfied: urllib3<3,>=1.21.1 in /usr/local/lib/python3.10/dist-packages (from requests>=2.19.0->interpret-core[dash,debug,linear,notebook,plotly,sensitivity,shap]==0.6.2->interpret) (2.0.7)\n",
            "Requirement already satisfied: certifi>=2017.4.17 in /usr/local/lib/python3.10/dist-packages (from requests>=2.19.0->interpret-core[dash,debug,linear,notebook,plotly,sensitivity,shap]==0.6.2->interpret) (2024.6.2)\n",
            "Requirement already satisfied: matplotlib>=3.5 in /usr/local/lib/python3.10/dist-packages (from SALib>=1.3.3->interpret-core[dash,debug,linear,notebook,plotly,sensitivity,shap]==0.6.2->interpret) (3.7.1)\n",
            "Requirement already satisfied: multiprocess in /usr/local/lib/python3.10/dist-packages (from SALib>=1.3.3->interpret-core[dash,debug,linear,notebook,plotly,sensitivity,shap]==0.6.2->interpret) (0.70.16)\n",
            "Requirement already satisfied: threadpoolctl>=3.1.0 in /usr/local/lib/python3.10/dist-packages (from scikit-learn>=0.18.1->interpret-core[dash,debug,linear,notebook,plotly,sensitivity,shap]==0.6.2->interpret) (3.5.0)\n",
            "Requirement already satisfied: tqdm>=4.27.0 in /usr/local/lib/python3.10/dist-packages (from shap>=0.28.5->interpret-core[dash,debug,linear,notebook,plotly,sensitivity,shap]==0.6.2->interpret) (4.66.4)\n",
            "Requirement already satisfied: slicer==0.0.8 in /usr/local/lib/python3.10/dist-packages (from shap>=0.28.5->interpret-core[dash,debug,linear,notebook,plotly,sensitivity,shap]==0.6.2->interpret) (0.0.8)\n",
            "Requirement already satisfied: numba in /usr/local/lib/python3.10/dist-packages (from shap>=0.28.5->interpret-core[dash,debug,linear,notebook,plotly,sensitivity,shap]==0.6.2->interpret) (0.58.1)\n",
            "Requirement already satisfied: cloudpickle in /usr/local/lib/python3.10/dist-packages (from shap>=0.28.5->interpret-core[dash,debug,linear,notebook,plotly,sensitivity,shap]==0.6.2->interpret) (2.2.1)\n",
            "Requirement already satisfied: Jinja2>=3.0 in /usr/local/lib/python3.10/dist-packages (from Flask<3.1,>=1.0.4->dash>=1.0.0->interpret-core[dash,debug,linear,notebook,plotly,sensitivity,shap]==0.6.2->interpret) (3.1.4)\n",
            "Requirement already satisfied: itsdangerous>=2.0 in /usr/local/lib/python3.10/dist-packages (from Flask<3.1,>=1.0.4->dash>=1.0.0->interpret-core[dash,debug,linear,notebook,plotly,sensitivity,shap]==0.6.2->interpret) (2.2.0)\n",
            "Requirement already satisfied: click>=8.0 in /usr/local/lib/python3.10/dist-packages (from Flask<3.1,>=1.0.4->dash>=1.0.0->interpret-core[dash,debug,linear,notebook,plotly,sensitivity,shap]==0.6.2->interpret) (8.1.7)\n",
            "Requirement already satisfied: parso<0.9.0,>=0.8.3 in /usr/local/lib/python3.10/dist-packages (from jedi>=0.16->ipython>=5.5.0->interpret-core[dash,debug,linear,notebook,plotly,sensitivity,shap]==0.6.2->interpret) (0.8.4)\n",
            "Requirement already satisfied: contourpy>=1.0.1 in /usr/local/lib/python3.10/dist-packages (from matplotlib>=3.5->SALib>=1.3.3->interpret-core[dash,debug,linear,notebook,plotly,sensitivity,shap]==0.6.2->interpret) (1.2.1)\n",
            "Requirement already satisfied: cycler>=0.10 in /usr/local/lib/python3.10/dist-packages (from matplotlib>=3.5->SALib>=1.3.3->interpret-core[dash,debug,linear,notebook,plotly,sensitivity,shap]==0.6.2->interpret) (0.12.1)\n",
            "Requirement already satisfied: fonttools>=4.22.0 in /usr/local/lib/python3.10/dist-packages (from matplotlib>=3.5->SALib>=1.3.3->interpret-core[dash,debug,linear,notebook,plotly,sensitivity,shap]==0.6.2->interpret) (4.53.0)\n",
            "Requirement already satisfied: kiwisolver>=1.0.1 in /usr/local/lib/python3.10/dist-packages (from matplotlib>=3.5->SALib>=1.3.3->interpret-core[dash,debug,linear,notebook,plotly,sensitivity,shap]==0.6.2->interpret) (1.4.5)\n",
            "Requirement already satisfied: pillow>=6.2.0 in /usr/local/lib/python3.10/dist-packages (from matplotlib>=3.5->SALib>=1.3.3->interpret-core[dash,debug,linear,notebook,plotly,sensitivity,shap]==0.6.2->interpret) (9.4.0)\n",
            "Requirement already satisfied: pyparsing>=2.3.1 in /usr/local/lib/python3.10/dist-packages (from matplotlib>=3.5->SALib>=1.3.3->interpret-core[dash,debug,linear,notebook,plotly,sensitivity,shap]==0.6.2->interpret) (3.1.2)\n",
            "Requirement already satisfied: ptyprocess>=0.5 in /usr/local/lib/python3.10/dist-packages (from pexpect>4.3->ipython>=5.5.0->interpret-core[dash,debug,linear,notebook,plotly,sensitivity,shap]==0.6.2->interpret) (0.7.0)\n",
            "Requirement already satisfied: wcwidth in /usr/local/lib/python3.10/dist-packages (from prompt-toolkit!=3.0.0,!=3.0.1,<3.1.0,>=2.0.0->ipython>=5.5.0->interpret-core[dash,debug,linear,notebook,plotly,sensitivity,shap]==0.6.2->interpret) (0.2.13)\n",
            "Requirement already satisfied: six>=1.5 in /usr/local/lib/python3.10/dist-packages (from python-dateutil>=2.8.2->pandas>=0.19.2->interpret-core[dash,debug,linear,notebook,plotly,sensitivity,shap]==0.6.2->interpret) (1.16.0)\n",
            "Requirement already satisfied: MarkupSafe>=2.1.1 in /usr/local/lib/python3.10/dist-packages (from Werkzeug<3.1->dash>=1.0.0->interpret-core[dash,debug,linear,notebook,plotly,sensitivity,shap]==0.6.2->interpret) (2.1.5)\n",
            "Requirement already satisfied: zipp>=0.5 in /usr/local/lib/python3.10/dist-packages (from importlib-metadata->dash>=1.0.0->interpret-core[dash,debug,linear,notebook,plotly,sensitivity,shap]==0.6.2->interpret) (3.19.2)\n",
            "Requirement already satisfied: jupyter-core>=4.6.0 in /usr/local/lib/python3.10/dist-packages (from jupyter-client->ipykernel>=4.10.0->interpret-core[dash,debug,linear,notebook,plotly,sensitivity,shap]==0.6.2->interpret) (5.7.2)\n",
            "Requirement already satisfied: pyzmq>=13 in /usr/local/lib/python3.10/dist-packages (from jupyter-client->ipykernel>=4.10.0->interpret-core[dash,debug,linear,notebook,plotly,sensitivity,shap]==0.6.2->interpret) (24.0.1)\n",
            "Requirement already satisfied: llvmlite<0.42,>=0.41.0dev0 in /usr/local/lib/python3.10/dist-packages (from numba->shap>=0.28.5->interpret-core[dash,debug,linear,notebook,plotly,sensitivity,shap]==0.6.2->interpret) (0.41.1)\n",
            "Requirement already satisfied: platformdirs>=2.5 in /usr/local/lib/python3.10/dist-packages (from jupyter-core>=4.6.0->jupyter-client->ipykernel>=4.10.0->interpret-core[dash,debug,linear,notebook,plotly,sensitivity,shap]==0.6.2->interpret) (4.2.2)\n",
            "Requirement already satisfied: shap in /usr/local/lib/python3.10/dist-packages (0.46.0)\n",
            "Requirement already satisfied: numpy in /usr/local/lib/python3.10/dist-packages (from shap) (1.25.2)\n",
            "Requirement already satisfied: scipy in /usr/local/lib/python3.10/dist-packages (from shap) (1.11.4)\n",
            "Requirement already satisfied: scikit-learn in /usr/local/lib/python3.10/dist-packages (from shap) (1.5.0)\n",
            "Requirement already satisfied: pandas in /usr/local/lib/python3.10/dist-packages (from shap) (2.0.3)\n",
            "Requirement already satisfied: tqdm>=4.27.0 in /usr/local/lib/python3.10/dist-packages (from shap) (4.66.4)\n",
            "Requirement already satisfied: packaging>20.9 in /usr/local/lib/python3.10/dist-packages (from shap) (24.1)\n",
            "Requirement already satisfied: slicer==0.0.8 in /usr/local/lib/python3.10/dist-packages (from shap) (0.0.8)\n",
            "Requirement already satisfied: numba in /usr/local/lib/python3.10/dist-packages (from shap) (0.58.1)\n",
            "Requirement already satisfied: cloudpickle in /usr/local/lib/python3.10/dist-packages (from shap) (2.2.1)\n",
            "Requirement already satisfied: llvmlite<0.42,>=0.41.0dev0 in /usr/local/lib/python3.10/dist-packages (from numba->shap) (0.41.1)\n",
            "Requirement already satisfied: python-dateutil>=2.8.2 in /usr/local/lib/python3.10/dist-packages (from pandas->shap) (2.8.2)\n",
            "Requirement already satisfied: pytz>=2020.1 in /usr/local/lib/python3.10/dist-packages (from pandas->shap) (2023.4)\n",
            "Requirement already satisfied: tzdata>=2022.1 in /usr/local/lib/python3.10/dist-packages (from pandas->shap) (2024.1)\n",
            "Requirement already satisfied: joblib>=1.2.0 in /usr/local/lib/python3.10/dist-packages (from scikit-learn->shap) (1.4.2)\n",
            "Requirement already satisfied: threadpoolctl>=3.1.0 in /usr/local/lib/python3.10/dist-packages (from scikit-learn->shap) (3.5.0)\n",
            "Requirement already satisfied: six>=1.5 in /usr/local/lib/python3.10/dist-packages (from python-dateutil>=2.8.2->pandas->shap) (1.16.0)\n",
            "Requirement already satisfied: lime in /usr/local/lib/python3.10/dist-packages (0.2.0.1)\n",
            "Requirement already satisfied: matplotlib in /usr/local/lib/python3.10/dist-packages (from lime) (3.7.1)\n",
            "Requirement already satisfied: numpy in /usr/local/lib/python3.10/dist-packages (from lime) (1.25.2)\n",
            "Requirement already satisfied: scipy in /usr/local/lib/python3.10/dist-packages (from lime) (1.11.4)\n",
            "Requirement already satisfied: tqdm in /usr/local/lib/python3.10/dist-packages (from lime) (4.66.4)\n",
            "Requirement already satisfied: scikit-learn>=0.18 in /usr/local/lib/python3.10/dist-packages (from lime) (1.5.0)\n",
            "Requirement already satisfied: scikit-image>=0.12 in /usr/local/lib/python3.10/dist-packages (from lime) (0.19.3)\n",
            "Requirement already satisfied: networkx>=2.2 in /usr/local/lib/python3.10/dist-packages (from scikit-image>=0.12->lime) (3.3)\n",
            "Requirement already satisfied: pillow!=7.1.0,!=7.1.1,!=8.3.0,>=6.1.0 in /usr/local/lib/python3.10/dist-packages (from scikit-image>=0.12->lime) (9.4.0)\n",
            "Requirement already satisfied: imageio>=2.4.1 in /usr/local/lib/python3.10/dist-packages (from scikit-image>=0.12->lime) (2.31.6)\n",
            "Requirement already satisfied: tifffile>=2019.7.26 in /usr/local/lib/python3.10/dist-packages (from scikit-image>=0.12->lime) (2024.6.18)\n",
            "Requirement already satisfied: PyWavelets>=1.1.1 in /usr/local/lib/python3.10/dist-packages (from scikit-image>=0.12->lime) (1.6.0)\n",
            "Requirement already satisfied: packaging>=20.0 in /usr/local/lib/python3.10/dist-packages (from scikit-image>=0.12->lime) (24.1)\n",
            "Requirement already satisfied: joblib>=1.2.0 in /usr/local/lib/python3.10/dist-packages (from scikit-learn>=0.18->lime) (1.4.2)\n",
            "Requirement already satisfied: threadpoolctl>=3.1.0 in /usr/local/lib/python3.10/dist-packages (from scikit-learn>=0.18->lime) (3.5.0)\n",
            "Requirement already satisfied: contourpy>=1.0.1 in /usr/local/lib/python3.10/dist-packages (from matplotlib->lime) (1.2.1)\n",
            "Requirement already satisfied: cycler>=0.10 in /usr/local/lib/python3.10/dist-packages (from matplotlib->lime) (0.12.1)\n",
            "Requirement already satisfied: fonttools>=4.22.0 in /usr/local/lib/python3.10/dist-packages (from matplotlib->lime) (4.53.0)\n",
            "Requirement already satisfied: kiwisolver>=1.0.1 in /usr/local/lib/python3.10/dist-packages (from matplotlib->lime) (1.4.5)\n",
            "Requirement already satisfied: pyparsing>=2.3.1 in /usr/local/lib/python3.10/dist-packages (from matplotlib->lime) (3.1.2)\n",
            "Requirement already satisfied: python-dateutil>=2.7 in /usr/local/lib/python3.10/dist-packages (from matplotlib->lime) (2.8.2)\n",
            "Requirement already satisfied: six>=1.5 in /usr/local/lib/python3.10/dist-packages (from python-dateutil>=2.7->matplotlib->lime) (1.16.0)\n"
          ]
        }
      ]
    },
    {
      "cell_type": "code",
      "source": [
        "!pip install pandas"
      ],
      "metadata": {
        "id": "VPcKHdbVxmjG",
        "colab": {
          "base_uri": "https://localhost:8080/"
        },
        "outputId": "c9a99010-0180-4c3e-f77f-48aa187eb11e"
      },
      "execution_count": 4,
      "outputs": [
        {
          "output_type": "stream",
          "name": "stdout",
          "text": [
            "Requirement already satisfied: pandas in /usr/local/lib/python3.10/dist-packages (2.0.3)\n",
            "Requirement already satisfied: python-dateutil>=2.8.2 in /usr/local/lib/python3.10/dist-packages (from pandas) (2.8.2)\n",
            "Requirement already satisfied: pytz>=2020.1 in /usr/local/lib/python3.10/dist-packages (from pandas) (2023.4)\n",
            "Requirement already satisfied: tzdata>=2022.1 in /usr/local/lib/python3.10/dist-packages (from pandas) (2024.1)\n",
            "Requirement already satisfied: numpy>=1.21.0 in /usr/local/lib/python3.10/dist-packages (from pandas) (1.25.2)\n",
            "Requirement already satisfied: six>=1.5 in /usr/local/lib/python3.10/dist-packages (from python-dateutil>=2.8.2->pandas) (1.16.0)\n"
          ]
        }
      ]
    },
    {
      "cell_type": "code",
      "source": [
        "!pip install --upgrade tensorflow"
      ],
      "metadata": {
        "colab": {
          "base_uri": "https://localhost:8080/"
        },
        "id": "kkvalPXsGc78",
        "outputId": "02755317-8ec3-45da-9ad6-4001013ab15f"
      },
      "execution_count": 5,
      "outputs": [
        {
          "output_type": "stream",
          "name": "stdout",
          "text": [
            "Requirement already satisfied: tensorflow in /usr/local/lib/python3.10/dist-packages (2.16.2)\n",
            "Requirement already satisfied: absl-py>=1.0.0 in /usr/local/lib/python3.10/dist-packages (from tensorflow) (1.4.0)\n",
            "Requirement already satisfied: astunparse>=1.6.0 in /usr/local/lib/python3.10/dist-packages (from tensorflow) (1.6.3)\n",
            "Requirement already satisfied: flatbuffers>=23.5.26 in /usr/local/lib/python3.10/dist-packages (from tensorflow) (24.3.25)\n",
            "Requirement already satisfied: gast!=0.5.0,!=0.5.1,!=0.5.2,>=0.2.1 in /usr/local/lib/python3.10/dist-packages (from tensorflow) (0.5.4)\n",
            "Requirement already satisfied: google-pasta>=0.1.1 in /usr/local/lib/python3.10/dist-packages (from tensorflow) (0.2.0)\n",
            "Requirement already satisfied: h5py>=3.10.0 in /usr/local/lib/python3.10/dist-packages (from tensorflow) (3.11.0)\n",
            "Requirement already satisfied: libclang>=13.0.0 in /usr/local/lib/python3.10/dist-packages (from tensorflow) (18.1.1)\n",
            "Requirement already satisfied: ml-dtypes~=0.3.1 in /usr/local/lib/python3.10/dist-packages (from tensorflow) (0.3.2)\n",
            "Requirement already satisfied: opt-einsum>=2.3.2 in /usr/local/lib/python3.10/dist-packages (from tensorflow) (3.3.0)\n",
            "Requirement already satisfied: packaging in /usr/local/lib/python3.10/dist-packages (from tensorflow) (24.1)\n",
            "Requirement already satisfied: protobuf!=4.21.0,!=4.21.1,!=4.21.2,!=4.21.3,!=4.21.4,!=4.21.5,<5.0.0dev,>=3.20.3 in /usr/local/lib/python3.10/dist-packages (from tensorflow) (3.20.3)\n",
            "Requirement already satisfied: requests<3,>=2.21.0 in /usr/local/lib/python3.10/dist-packages (from tensorflow) (2.31.0)\n",
            "Requirement already satisfied: setuptools in /usr/local/lib/python3.10/dist-packages (from tensorflow) (67.7.2)\n",
            "Requirement already satisfied: six>=1.12.0 in /usr/local/lib/python3.10/dist-packages (from tensorflow) (1.16.0)\n",
            "Requirement already satisfied: termcolor>=1.1.0 in /usr/local/lib/python3.10/dist-packages (from tensorflow) (2.4.0)\n",
            "Requirement already satisfied: typing-extensions>=3.6.6 in /usr/local/lib/python3.10/dist-packages (from tensorflow) (4.12.2)\n",
            "Requirement already satisfied: wrapt>=1.11.0 in /usr/local/lib/python3.10/dist-packages (from tensorflow) (1.14.1)\n",
            "Requirement already satisfied: grpcio<2.0,>=1.24.3 in /usr/local/lib/python3.10/dist-packages (from tensorflow) (1.64.1)\n",
            "Requirement already satisfied: tensorboard<2.17,>=2.16 in /usr/local/lib/python3.10/dist-packages (from tensorflow) (2.16.2)\n",
            "Requirement already satisfied: keras>=3.0.0 in /usr/local/lib/python3.10/dist-packages (from tensorflow) (3.4.1)\n",
            "Requirement already satisfied: tensorflow-io-gcs-filesystem>=0.23.1 in /usr/local/lib/python3.10/dist-packages (from tensorflow) (0.37.0)\n",
            "Requirement already satisfied: numpy<2.0.0,>=1.23.5 in /usr/local/lib/python3.10/dist-packages (from tensorflow) (1.25.2)\n",
            "Requirement already satisfied: wheel<1.0,>=0.23.0 in /usr/local/lib/python3.10/dist-packages (from astunparse>=1.6.0->tensorflow) (0.43.0)\n",
            "Requirement already satisfied: rich in /usr/local/lib/python3.10/dist-packages (from keras>=3.0.0->tensorflow) (13.7.1)\n",
            "Requirement already satisfied: namex in /usr/local/lib/python3.10/dist-packages (from keras>=3.0.0->tensorflow) (0.0.8)\n",
            "Requirement already satisfied: optree in /usr/local/lib/python3.10/dist-packages (from keras>=3.0.0->tensorflow) (0.11.0)\n",
            "Requirement already satisfied: charset-normalizer<4,>=2 in /usr/local/lib/python3.10/dist-packages (from requests<3,>=2.21.0->tensorflow) (3.3.2)\n",
            "Requirement already satisfied: idna<4,>=2.5 in /usr/local/lib/python3.10/dist-packages (from requests<3,>=2.21.0->tensorflow) (3.7)\n",
            "Requirement already satisfied: urllib3<3,>=1.21.1 in /usr/local/lib/python3.10/dist-packages (from requests<3,>=2.21.0->tensorflow) (2.0.7)\n",
            "Requirement already satisfied: certifi>=2017.4.17 in /usr/local/lib/python3.10/dist-packages (from requests<3,>=2.21.0->tensorflow) (2024.6.2)\n",
            "Requirement already satisfied: markdown>=2.6.8 in /usr/local/lib/python3.10/dist-packages (from tensorboard<2.17,>=2.16->tensorflow) (3.6)\n",
            "Requirement already satisfied: tensorboard-data-server<0.8.0,>=0.7.0 in /usr/local/lib/python3.10/dist-packages (from tensorboard<2.17,>=2.16->tensorflow) (0.7.2)\n",
            "Requirement already satisfied: werkzeug>=1.0.1 in /usr/local/lib/python3.10/dist-packages (from tensorboard<2.17,>=2.16->tensorflow) (3.0.3)\n",
            "Requirement already satisfied: MarkupSafe>=2.1.1 in /usr/local/lib/python3.10/dist-packages (from werkzeug>=1.0.1->tensorboard<2.17,>=2.16->tensorflow) (2.1.5)\n",
            "Requirement already satisfied: markdown-it-py>=2.2.0 in /usr/local/lib/python3.10/dist-packages (from rich->keras>=3.0.0->tensorflow) (3.0.0)\n",
            "Requirement already satisfied: pygments<3.0.0,>=2.13.0 in /usr/local/lib/python3.10/dist-packages (from rich->keras>=3.0.0->tensorflow) (2.16.1)\n",
            "Requirement already satisfied: mdurl~=0.1 in /usr/local/lib/python3.10/dist-packages (from markdown-it-py>=2.2.0->rich->keras>=3.0.0->tensorflow) (0.1.2)\n"
          ]
        }
      ]
    },
    {
      "cell_type": "code",
      "source": [
        "!pip install --upgrade scikit-learn"
      ],
      "metadata": {
        "colab": {
          "base_uri": "https://localhost:8080/"
        },
        "id": "w9Y4rfakJcL1",
        "outputId": "8ddea6d8-6712-48c8-cc86-002676bf410c"
      },
      "execution_count": 8,
      "outputs": [
        {
          "output_type": "stream",
          "name": "stdout",
          "text": [
            "Requirement already satisfied: scikit-learn in /usr/local/lib/python3.10/dist-packages (1.5.0)\n",
            "Requirement already satisfied: numpy>=1.19.5 in /usr/local/lib/python3.10/dist-packages (from scikit-learn) (1.25.2)\n",
            "Requirement already satisfied: scipy>=1.6.0 in /usr/local/lib/python3.10/dist-packages (from scikit-learn) (1.11.4)\n",
            "Requirement already satisfied: joblib>=1.2.0 in /usr/local/lib/python3.10/dist-packages (from scikit-learn) (1.4.2)\n",
            "Requirement already satisfied: threadpoolctl>=3.1.0 in /usr/local/lib/python3.10/dist-packages (from scikit-learn) (3.5.0)\n"
          ]
        }
      ]
    },
    {
      "source": [
        "!pip install --upgrade scikit-learn # Upgrade scikit-learn to the latest version"
      ],
      "cell_type": "code",
      "metadata": {
        "id": "sEPnegQrJ2mx",
        "colab": {
          "base_uri": "https://localhost:8080/"
        },
        "outputId": "396ed365-3bcc-4a54-c3b9-bec2d4659644"
      },
      "execution_count": 9,
      "outputs": [
        {
          "output_type": "stream",
          "name": "stdout",
          "text": [
            "Requirement already satisfied: scikit-learn in /usr/local/lib/python3.10/dist-packages (1.5.0)\n",
            "Requirement already satisfied: numpy>=1.19.5 in /usr/local/lib/python3.10/dist-packages (from scikit-learn) (1.25.2)\n",
            "Requirement already satisfied: scipy>=1.6.0 in /usr/local/lib/python3.10/dist-packages (from scikit-learn) (1.11.4)\n",
            "Requirement already satisfied: joblib>=1.2.0 in /usr/local/lib/python3.10/dist-packages (from scikit-learn) (1.4.2)\n",
            "Requirement already satisfied: threadpoolctl>=3.1.0 in /usr/local/lib/python3.10/dist-packages (from scikit-learn) (3.5.0)\n"
          ]
        }
      ]
    },
    {
      "cell_type": "code",
      "source": [
        "!pip install --upgrade scikit-learn\n",
        "!pip install --upgrade scikeras"
      ],
      "metadata": {
        "id": "JzJp-3e_MJMY",
        "colab": {
          "base_uri": "https://localhost:8080/"
        },
        "outputId": "de866d13-5f4d-4a6c-f512-67acd8d00b13"
      },
      "execution_count": 10,
      "outputs": [
        {
          "output_type": "stream",
          "name": "stdout",
          "text": [
            "Requirement already satisfied: scikit-learn in /usr/local/lib/python3.10/dist-packages (1.5.0)\n",
            "Requirement already satisfied: numpy>=1.19.5 in /usr/local/lib/python3.10/dist-packages (from scikit-learn) (1.25.2)\n",
            "Requirement already satisfied: scipy>=1.6.0 in /usr/local/lib/python3.10/dist-packages (from scikit-learn) (1.11.4)\n",
            "Requirement already satisfied: joblib>=1.2.0 in /usr/local/lib/python3.10/dist-packages (from scikit-learn) (1.4.2)\n",
            "Requirement already satisfied: threadpoolctl>=3.1.0 in /usr/local/lib/python3.10/dist-packages (from scikit-learn) (3.5.0)\n",
            "Requirement already satisfied: scikeras in /usr/local/lib/python3.10/dist-packages (0.13.0)\n",
            "Requirement already satisfied: keras>=3.2.0 in /usr/local/lib/python3.10/dist-packages (from scikeras) (3.4.1)\n",
            "Requirement already satisfied: scikit-learn>=1.4.2 in /usr/local/lib/python3.10/dist-packages (from scikeras) (1.5.0)\n",
            "Requirement already satisfied: absl-py in /usr/local/lib/python3.10/dist-packages (from keras>=3.2.0->scikeras) (1.4.0)\n",
            "Requirement already satisfied: numpy in /usr/local/lib/python3.10/dist-packages (from keras>=3.2.0->scikeras) (1.25.2)\n",
            "Requirement already satisfied: rich in /usr/local/lib/python3.10/dist-packages (from keras>=3.2.0->scikeras) (13.7.1)\n",
            "Requirement already satisfied: namex in /usr/local/lib/python3.10/dist-packages (from keras>=3.2.0->scikeras) (0.0.8)\n",
            "Requirement already satisfied: h5py in /usr/local/lib/python3.10/dist-packages (from keras>=3.2.0->scikeras) (3.11.0)\n",
            "Requirement already satisfied: optree in /usr/local/lib/python3.10/dist-packages (from keras>=3.2.0->scikeras) (0.11.0)\n",
            "Requirement already satisfied: ml-dtypes in /usr/local/lib/python3.10/dist-packages (from keras>=3.2.0->scikeras) (0.3.2)\n",
            "Requirement already satisfied: packaging in /usr/local/lib/python3.10/dist-packages (from keras>=3.2.0->scikeras) (24.1)\n",
            "Requirement already satisfied: scipy>=1.6.0 in /usr/local/lib/python3.10/dist-packages (from scikit-learn>=1.4.2->scikeras) (1.11.4)\n",
            "Requirement already satisfied: joblib>=1.2.0 in /usr/local/lib/python3.10/dist-packages (from scikit-learn>=1.4.2->scikeras) (1.4.2)\n",
            "Requirement already satisfied: threadpoolctl>=3.1.0 in /usr/local/lib/python3.10/dist-packages (from scikit-learn>=1.4.2->scikeras) (3.5.0)\n",
            "Requirement already satisfied: typing-extensions>=4.0.0 in /usr/local/lib/python3.10/dist-packages (from optree->keras>=3.2.0->scikeras) (4.12.2)\n",
            "Requirement already satisfied: markdown-it-py>=2.2.0 in /usr/local/lib/python3.10/dist-packages (from rich->keras>=3.2.0->scikeras) (3.0.0)\n",
            "Requirement already satisfied: pygments<3.0.0,>=2.13.0 in /usr/local/lib/python3.10/dist-packages (from rich->keras>=3.2.0->scikeras) (2.16.1)\n",
            "Requirement already satisfied: mdurl~=0.1 in /usr/local/lib/python3.10/dist-packages (from markdown-it-py>=2.2.0->rich->keras>=3.2.0->scikeras) (0.1.2)\n"
          ]
        }
      ]
    },
    {
      "source": [
        "!pip uninstall scikit-learn scikeras -y\n",
        "!pip install scikit-learn scikeras"
      ],
      "cell_type": "code",
      "metadata": {
        "colab": {
          "base_uri": "https://localhost:8080/"
        },
        "id": "2A7iQD2ZNBo3",
        "outputId": "a2741a3e-9018-44f3-b9f1-84f9007af071"
      },
      "execution_count": 11,
      "outputs": [
        {
          "output_type": "stream",
          "name": "stdout",
          "text": [
            "Found existing installation: scikit-learn 1.5.0\n",
            "Uninstalling scikit-learn-1.5.0:\n",
            "  Successfully uninstalled scikit-learn-1.5.0\n",
            "Found existing installation: scikeras 0.13.0\n",
            "Uninstalling scikeras-0.13.0:\n",
            "  Successfully uninstalled scikeras-0.13.0\n",
            "Collecting scikit-learn\n",
            "  Using cached scikit_learn-1.5.0-cp310-cp310-manylinux_2_17_x86_64.manylinux2014_x86_64.whl (13.3 MB)\n",
            "Collecting scikeras\n",
            "  Using cached scikeras-0.13.0-py3-none-any.whl (26 kB)\n",
            "Requirement already satisfied: numpy>=1.19.5 in /usr/local/lib/python3.10/dist-packages (from scikit-learn) (1.25.2)\n",
            "Requirement already satisfied: scipy>=1.6.0 in /usr/local/lib/python3.10/dist-packages (from scikit-learn) (1.11.4)\n",
            "Requirement already satisfied: joblib>=1.2.0 in /usr/local/lib/python3.10/dist-packages (from scikit-learn) (1.4.2)\n",
            "Requirement already satisfied: threadpoolctl>=3.1.0 in /usr/local/lib/python3.10/dist-packages (from scikit-learn) (3.5.0)\n",
            "Requirement already satisfied: keras>=3.2.0 in /usr/local/lib/python3.10/dist-packages (from scikeras) (3.4.1)\n",
            "Requirement already satisfied: absl-py in /usr/local/lib/python3.10/dist-packages (from keras>=3.2.0->scikeras) (1.4.0)\n",
            "Requirement already satisfied: rich in /usr/local/lib/python3.10/dist-packages (from keras>=3.2.0->scikeras) (13.7.1)\n",
            "Requirement already satisfied: namex in /usr/local/lib/python3.10/dist-packages (from keras>=3.2.0->scikeras) (0.0.8)\n",
            "Requirement already satisfied: h5py in /usr/local/lib/python3.10/dist-packages (from keras>=3.2.0->scikeras) (3.11.0)\n",
            "Requirement already satisfied: optree in /usr/local/lib/python3.10/dist-packages (from keras>=3.2.0->scikeras) (0.11.0)\n",
            "Requirement already satisfied: ml-dtypes in /usr/local/lib/python3.10/dist-packages (from keras>=3.2.0->scikeras) (0.3.2)\n",
            "Requirement already satisfied: packaging in /usr/local/lib/python3.10/dist-packages (from keras>=3.2.0->scikeras) (24.1)\n",
            "Requirement already satisfied: typing-extensions>=4.0.0 in /usr/local/lib/python3.10/dist-packages (from optree->keras>=3.2.0->scikeras) (4.12.2)\n",
            "Requirement already satisfied: markdown-it-py>=2.2.0 in /usr/local/lib/python3.10/dist-packages (from rich->keras>=3.2.0->scikeras) (3.0.0)\n",
            "Requirement already satisfied: pygments<3.0.0,>=2.13.0 in /usr/local/lib/python3.10/dist-packages (from rich->keras>=3.2.0->scikeras) (2.16.1)\n",
            "Requirement already satisfied: mdurl~=0.1 in /usr/local/lib/python3.10/dist-packages (from markdown-it-py>=2.2.0->rich->keras>=3.2.0->scikeras) (0.1.2)\n",
            "Installing collected packages: scikit-learn, scikeras\n",
            "Successfully installed scikeras-0.13.0 scikit-learn-1.5.0\n"
          ]
        }
      ]
    },
    {
      "cell_type": "code",
      "source": [
        "from google.colab import drive\n",
        "drive.mount('/content/drive')"
      ],
      "metadata": {
        "colab": {
          "base_uri": "https://localhost:8080/"
        },
        "id": "cY_jEFndwt26",
        "outputId": "dd204f71-0e0b-4ca0-89a5-7a253b38e862"
      },
      "execution_count": 16,
      "outputs": [
        {
          "output_type": "stream",
          "name": "stdout",
          "text": [
            "Drive already mounted at /content/drive; to attempt to forcibly remount, call drive.mount(\"/content/drive\", force_remount=True).\n"
          ]
        }
      ]
    },
    {
      "cell_type": "code",
      "source": [
        "data = pd.read_csv(\"/content/drive/My Drive/ffh_dataset/PID1/PID_1.csv\")\n",
        "data.head()\n",
        "print(data.columns)"
      ],
      "metadata": {
        "colab": {
          "base_uri": "https://localhost:8080/"
        },
        "id": "_hfJxzPoxNHH",
        "outputId": "a5673ab5-016b-4e7b-a64d-64304a11b347"
      },
      "execution_count": 17,
      "outputs": [
        {
          "output_type": "stream",
          "name": "stdout",
          "text": [
            "Index(['Datetime', ' ECGR ', ' AvgECG ', ' ampECG ', ' MAX ', ' GSRR ',\n",
            "       ' Resistance ', ' GSR(kohm) ', ' SCL ', ' GSRRMS ', ' GSRMAV ',\n",
            "       ' EMGR ', ' EMGRMS ', ' EMGMAV ', ' EMGVAR ', ' EMGSSI ', ' IEMG ',\n",
            "       ' AccX ', ' AccY', ' AccZ ', ' GyroX ', ' GyroY ', ' GyroZ ', ' Aroll ',\n",
            "       ' Apitch ', ' Groll ', ' Gpitch', ' Gy ', ' Combroll ', ' Combpitch',\n",
            "       'Features'],\n",
            "      dtype='object')\n"
          ]
        }
      ]
    },
    {
      "cell_type": "code",
      "source": [],
      "metadata": {
        "id": "cnlGhY0SG8AR"
      },
      "execution_count": null,
      "outputs": []
    },
    {
      "source": [
        "import pandas as pd\n",
        "from sklearn.preprocessing import LabelEncoder\n",
        "from tensorflow.keras.models import Sequential\n",
        "from tensorflow.keras.layers import LSTM, Dense\n",
        "from sklearn.model_selection import train_test_split\n",
        "from sklearn.metrics import recall_score, precision_score, f1_score\n",
        "\n",
        "# Load data from CSV\n",
        "# data = pd.read_csv(\"fall_data.csv\")\n",
        "\n",
        "# Define a function to map features to fall/no-fall categories\n",
        "def map_features(features):\n",
        "  # Note: Assuming 'features' is now an integer representing the encoded feature\n",
        "  fall_activities = [0, 1, 2] # Replace with the encoded values for fall activities\n",
        "  if features in fall_activities:\n",
        "    return 0  # Fall\n",
        "  else:\n",
        "    return 1  # No Fall\n",
        "\n",
        "# Apply mapping function to 'Features' column and create a new 'Fall' column\n",
        "data[\"Fall\"] = data[\"Features\"].apply(map_features) # 'Features' column now contains integers\n",
        "\n",
        "# Encode categorical columns (optional, if needed)\n",
        "label_encoder = LabelEncoder()\n",
        "data[\"Features\"] = label_encoder.fit_transform(data[\"Features\"])\n",
        "\n",
        "# Separate features and target variable\n",
        "X = data.drop([\"Datetime\", \"Features\", \"Fall\"], axis=1)\n",
        "y = data[\"Fall\"]\n",
        "\n",
        "# Convert all columns in X to float32\n",
        "X = X.astype('float32')  # Convert all data to float type\n",
        "\n",
        "# Train-test split\n",
        "X_train, X_test, y_train, y_test = train_test_split(X, y, test_size=0.2, random_state=42)\n",
        "\n",
        "# Model definition\n",
        "model = Sequential()\n",
        "model.add(LSTM(units=64, activation=\"relu\", return_sequences=True, input_shape=(X_train.shape[1], 1)))\n",
        "model.add(LSTM(units=32, activation=\"relu\"))\n",
        "model.add(Dense(1, activation=\"sigmoid\"))  # Binary classification\n",
        "\n",
        "# Model compilation\n",
        "model.compile(optimizer=\"adam\", loss=\"binary_crossentropy\", metrics=[\"accuracy\"])\n",
        "\n",
        "# Model training\n",
        "model.fit(X_train.values.reshape(X_train.shape[0], X_train.shape[1], 1), y_train, epochs=50, validation_data=(X_test.values.reshape(X_test.shape[0], X_test.shape[1], 1), y_test))\n",
        "\n",
        "# Evaluation on test set\n",
        "y_pred = model.predict(X_test.values.reshape(X_test.shape[0], X_test.shape[1], 1))\n",
        "y_pred = (y_pred > 0.5).astype(int)  # Thresholding for class prediction\n",
        "\n",
        "loss, accuracy = model.evaluate(X_test.values.reshape(X_test.shape[0], X_test.shape[1], 1), y_test) # Reshape X_test for the LSTM layer\n",
        "print(\"Test Accuracy:\", accuracy)\n",
        "\n",
        "\n",
        "recall = recall_score(y_test, y_pred)\n",
        "precision = precision_score(y_test, y_pred)\n",
        "f1 = f1_score(y_test, y_pred)\n",
        "\n",
        "print(\"Recall Score:\", recall)\n",
        "print(\"Precision Score:\", precision)\n",
        "print(\"F1 Score:\", f1)\n",
        "\n",
        "# Hyperparameter Tuning (Optional)\n",
        "# Use techniques like GridSearchCV to find the best hyperparameter combination\n",
        "# for your model (e.g., number of LSTM units, activation functions, learning rate)"
      ],
      "cell_type": "code",
      "metadata": {
        "colab": {
          "base_uri": "https://localhost:8080/"
        },
        "id": "zqZ6PO7h0CMx",
        "outputId": "a372b534-7dcd-44e4-be80-2223965fa9b3"
      },
      "execution_count": 10,
      "outputs": [
        {
          "output_type": "stream",
          "name": "stdout",
          "text": [
            "Epoch 1/50\n",
            "115/115 [==============================] - 11s 66ms/step - loss: 49197.9766 - accuracy: 0.6896 - val_loss: 36288.1602 - val_accuracy: 0.7005\n",
            "Epoch 2/50\n",
            "115/115 [==============================] - 4s 32ms/step - loss: 19944.1348 - accuracy: 0.7230 - val_loss: 10647.6973 - val_accuracy: 0.7432\n",
            "Epoch 3/50\n",
            "115/115 [==============================] - 4s 32ms/step - loss: 2575.6074 - accuracy: 0.6604 - val_loss: 35394.2227 - val_accuracy: 0.6415\n",
            "Epoch 4/50\n",
            "115/115 [==============================] - 5s 42ms/step - loss: 35852.3008 - accuracy: 0.6620 - val_loss: 98431.2969 - val_accuracy: 0.6842\n",
            "Epoch 5/50\n",
            "115/115 [==============================] - 5s 40ms/step - loss: 11267.1592 - accuracy: 0.6645 - val_loss: 755.9734 - val_accuracy: 0.6667\n",
            "Epoch 6/50\n",
            "115/115 [==============================] - 4s 32ms/step - loss: 194713.3438 - accuracy: 0.7003 - val_loss: 187396.8750 - val_accuracy: 0.7290\n",
            "Epoch 7/50\n",
            "115/115 [==============================] - 4s 33ms/step - loss: 11921.8926 - accuracy: 0.6527 - val_loss: 187.7983 - val_accuracy: 0.6612\n",
            "Epoch 8/50\n",
            "115/115 [==============================] - 6s 54ms/step - loss: 2765.7161 - accuracy: 0.7197 - val_loss: 3376.3545 - val_accuracy: 0.7180\n",
            "Epoch 9/50\n",
            "115/115 [==============================] - 4s 32ms/step - loss: 3660.0916 - accuracy: 0.7057 - val_loss: 783.1256 - val_accuracy: 0.7432\n",
            "Epoch 10/50\n",
            "115/115 [==============================] - 4s 35ms/step - loss: 7053.5869 - accuracy: 0.6943 - val_loss: 66444.9453 - val_accuracy: 0.3454\n",
            "Epoch 11/50\n",
            "115/115 [==============================] - 6s 52ms/step - loss: 33788.2656 - accuracy: 0.7352 - val_loss: 7349.5947 - val_accuracy: 0.7923\n",
            "Epoch 12/50\n",
            "115/115 [==============================] - 4s 33ms/step - loss: 6535.2485 - accuracy: 0.8139 - val_loss: 3097.7537 - val_accuracy: 0.8197\n",
            "Epoch 13/50\n",
            "115/115 [==============================] - 4s 33ms/step - loss: 10127.0020 - accuracy: 0.7954 - val_loss: 39537.8125 - val_accuracy: 0.7464\n",
            "Epoch 14/50\n",
            "115/115 [==============================] - 4s 39ms/step - loss: 13764.3174 - accuracy: 0.7194 - val_loss: 5015.3345 - val_accuracy: 0.6765\n",
            "Epoch 15/50\n",
            "115/115 [==============================] - 5s 42ms/step - loss: 1521.2799 - accuracy: 0.7380 - val_loss: 4210.0376 - val_accuracy: 0.7683\n",
            "Epoch 16/50\n",
            "115/115 [==============================] - 4s 33ms/step - loss: 919.2980 - accuracy: 0.7426 - val_loss: 126.5903 - val_accuracy: 0.7268\n",
            "Epoch 17/50\n",
            "115/115 [==============================] - 4s 32ms/step - loss: 819.3340 - accuracy: 0.7675 - val_loss: 405.7505 - val_accuracy: 0.7661\n",
            "Epoch 18/50\n",
            "115/115 [==============================] - 6s 52ms/step - loss: 7941.1992 - accuracy: 0.7847 - val_loss: 10148.8242 - val_accuracy: 0.8011\n",
            "Epoch 19/50\n",
            "115/115 [==============================] - 4s 33ms/step - loss: 15121.5801 - accuracy: 0.7481 - val_loss: 149.6615 - val_accuracy: 0.7814\n",
            "Epoch 20/50\n",
            "115/115 [==============================] - 4s 33ms/step - loss: 1396.7972 - accuracy: 0.6975 - val_loss: 24935.0879 - val_accuracy: 0.3607\n",
            "Epoch 21/50\n",
            "115/115 [==============================] - 5s 40ms/step - loss: 11094.0713 - accuracy: 0.6962 - val_loss: 6341.5767 - val_accuracy: 0.7989\n",
            "Epoch 22/50\n",
            "115/115 [==============================] - 5s 42ms/step - loss: 5183.2295 - accuracy: 0.7096 - val_loss: 1052.3193 - val_accuracy: 0.8262\n",
            "Epoch 23/50\n",
            "115/115 [==============================] - 4s 32ms/step - loss: 5314.7671 - accuracy: 0.7571 - val_loss: 120.4680 - val_accuracy: 0.8262\n",
            "Epoch 24/50\n",
            "115/115 [==============================] - 4s 33ms/step - loss: 2159.8630 - accuracy: 0.6822 - val_loss: 1552.4723 - val_accuracy: 0.8251\n",
            "Epoch 25/50\n",
            "115/115 [==============================] - 6s 50ms/step - loss: 2051.4351 - accuracy: 0.7784 - val_loss: 510.2335 - val_accuracy: 0.8284\n",
            "Epoch 26/50\n",
            "115/115 [==============================] - 4s 34ms/step - loss: 1577.9895 - accuracy: 0.6571 - val_loss: 820.7808 - val_accuracy: 0.8262\n",
            "Epoch 27/50\n",
            "115/115 [==============================] - 4s 32ms/step - loss: 662.2914 - accuracy: 0.7213 - val_loss: 137.8172 - val_accuracy: 0.8240\n",
            "Epoch 28/50\n",
            "115/115 [==============================] - 4s 39ms/step - loss: 474.3003 - accuracy: 0.7664 - val_loss: 2.0938 - val_accuracy: 0.8186\n",
            "Epoch 29/50\n",
            "115/115 [==============================] - 5s 44ms/step - loss: 368.2477 - accuracy: 0.7899 - val_loss: 157.0514 - val_accuracy: 0.8197\n",
            "Epoch 30/50\n",
            "115/115 [==============================] - 4s 33ms/step - loss: 163.7099 - accuracy: 0.6866 - val_loss: 50.2193 - val_accuracy: 0.8208\n",
            "Epoch 31/50\n",
            "115/115 [==============================] - 4s 32ms/step - loss: 116.1505 - accuracy: 0.8052 - val_loss: 40.3788 - val_accuracy: 0.8262\n",
            "Epoch 32/50\n",
            "115/115 [==============================] - 6s 51ms/step - loss: 45.3947 - accuracy: 0.7869 - val_loss: 35.2560 - val_accuracy: 0.8262\n",
            "Epoch 33/50\n",
            "115/115 [==============================] - 4s 36ms/step - loss: 39.4382 - accuracy: 0.8068 - val_loss: 19.7465 - val_accuracy: 0.8251\n",
            "Epoch 34/50\n",
            "115/115 [==============================] - 4s 33ms/step - loss: 20.8010 - accuracy: 0.8320 - val_loss: 2.0866 - val_accuracy: 0.8131\n",
            "Epoch 35/50\n",
            "115/115 [==============================] - 5s 44ms/step - loss: 17.5522 - accuracy: 0.8208 - val_loss: 11.2490 - val_accuracy: 0.8251\n",
            "Epoch 36/50\n",
            "115/115 [==============================] - 5s 41ms/step - loss: 12.6362 - accuracy: 0.8279 - val_loss: 12.4591 - val_accuracy: 0.8230\n",
            "Epoch 37/50\n",
            "115/115 [==============================] - 4s 34ms/step - loss: 7.6123 - accuracy: 0.8322 - val_loss: 1.9535 - val_accuracy: 0.8251\n",
            "Epoch 38/50\n",
            "115/115 [==============================] - 4s 35ms/step - loss: 2.0627 - accuracy: 0.8298 - val_loss: 0.8468 - val_accuracy: 0.8153\n",
            "Epoch 39/50\n",
            "115/115 [==============================] - 6s 49ms/step - loss: 0.7866 - accuracy: 0.8030 - val_loss: 0.8265 - val_accuracy: 0.8251\n",
            "Epoch 40/50\n",
            "115/115 [==============================] - 4s 34ms/step - loss: 0.6801 - accuracy: 0.8287 - val_loss: 0.8350 - val_accuracy: 0.8175\n",
            "Epoch 41/50\n",
            "115/115 [==============================] - 4s 35ms/step - loss: 0.5491 - accuracy: 0.8303 - val_loss: 0.8261 - val_accuracy: 0.8208\n",
            "Epoch 42/50\n",
            "115/115 [==============================] - 6s 52ms/step - loss: 0.5988 - accuracy: 0.8325 - val_loss: 0.8716 - val_accuracy: 0.8251\n",
            "Epoch 43/50\n",
            "115/115 [==============================] - 4s 33ms/step - loss: 0.5547 - accuracy: 0.8320 - val_loss: 0.8177 - val_accuracy: 0.8230\n",
            "Epoch 44/50\n",
            "115/115 [==============================] - 4s 33ms/step - loss: 0.5757 - accuracy: 0.8314 - val_loss: 0.8631 - val_accuracy: 0.8262\n",
            "Epoch 45/50\n",
            "115/115 [==============================] - 5s 41ms/step - loss: 0.5383 - accuracy: 0.8331 - val_loss: 0.7174 - val_accuracy: 0.8240\n",
            "Epoch 46/50\n",
            "115/115 [==============================] - 5s 44ms/step - loss: 0.8149 - accuracy: 0.8314 - val_loss: 1.3410 - val_accuracy: 0.8251\n",
            "Epoch 47/50\n",
            "115/115 [==============================] - 4s 33ms/step - loss: 0.7040 - accuracy: 0.8347 - val_loss: 0.8874 - val_accuracy: 0.8230\n",
            "Epoch 48/50\n",
            "115/115 [==============================] - 4s 33ms/step - loss: 0.4829 - accuracy: 0.8342 - val_loss: 0.4599 - val_accuracy: 0.8262\n",
            "Epoch 49/50\n",
            "115/115 [==============================] - 6s 51ms/step - loss: 0.4766 - accuracy: 0.8342 - val_loss: 0.4597 - val_accuracy: 0.8262\n",
            "Epoch 50/50\n",
            "115/115 [==============================] - 4s 36ms/step - loss: 0.4748 - accuracy: 0.8344 - val_loss: 0.4580 - val_accuracy: 0.8262\n",
            "29/29 [==============================] - 1s 9ms/step\n",
            "29/29 [==============================] - 0s 9ms/step - loss: 0.4580 - accuracy: 0.8262\n",
            "Test Accuracy: 0.8262295126914978\n",
            "Recall Score: 1.0\n",
            "Precision Score: 0.8262295081967214\n",
            "F1 Score: 0.9048473967684022\n"
          ]
        }
      ]
    },
    {
      "source": [
        "import pandas as pd\n",
        "from sklearn.preprocessing import LabelEncoder\n",
        "from tensorflow.keras.models import Sequential\n",
        "from tensorflow.keras.layers import Conv1D, MaxPooling1D, Flatten, LSTM, Dense, Dropout\n",
        "from sklearn.model_selection import train_test_split\n",
        "from sklearn.metrics import recall_score, precision_score, f1_score\n",
        "\n",
        "# Load data from CSV\n",
        "# data = pd.read_csv(\"fall_data.csv\")\n",
        "\n",
        "# Define a function to map features to fall/no-fall categories\n",
        "def map_features(features):\n",
        "  # Assuming 'features' is now an integer representing the encoded feature\n",
        "  fall_activities = [0, 1, 2]  # Replace with the encoded values for fall activities\n",
        "  if features in fall_activities:\n",
        "    return 0  # Fall\n",
        "  else:\n",
        "    return 1  # No Fall\n",
        "\n",
        "# Apply mapping function to 'Features' column and create a new 'Fall' column\n",
        "data[\"Fall\"] = data[\"Features\"].apply(map_features)\n",
        "\n",
        "# Encode categorical columns (optional, if needed)\n",
        "label_encoder = LabelEncoder()\n",
        "categorical_cols = [\"Datetime\"]  # Assuming only Datetime is categorical\n",
        "# Reshape the output of fit_transform to be a 2D array\n",
        "data[categorical_cols] = label_encoder.fit_transform(data[categorical_cols]).reshape(-1, 1)\n",
        "\n",
        "# Separate features and target variable\n",
        "X = data.drop([\"Fall\"], axis=1)\n",
        "y = data[\"Fall\"]\n",
        "\n",
        "# Convert all columns in X to float32\n",
        "X = X.astype('float32')  # Convert all data to float type\n",
        "\n",
        "# Reshape features for CNN (add channel dimension)\n",
        "X = X.values.reshape(X.shape[0], X.shape[1], 1)\n",
        "\n",
        "# Train-test split\n",
        "X_train, X_test, y_train, y_test = train_test_split(X, y, test_size=0.2, random_state=42)\n",
        "\n",
        "# Model definition\n",
        "model = Sequential()\n",
        "\n",
        "# CNN layer to extract features\n",
        "model.add(Conv1D(filters=32, kernel_size=3, activation='relu', input_shape=(X_train.shape[1], 1)))\n",
        "model.add(MaxPooling1D(pool_size=2))  # Reduce dimensionality\n",
        "model.add(Dropout(0.2))  # Dropout for regularization\n",
        "\n",
        "# Remove the Flatten layer\n",
        "# model.add(Flatten())\n",
        "\n",
        "# LSTM layers for sequential processing\n",
        "model.add(LSTM(units=64, activation=\"relu\", return_sequences=True)) # The output of this LSTM layer will be 3D\n",
        "model.add(Dropout(0.2))  # Dropout for regularization\n",
        "model.add(LSTM(units=32, activation=\"relu\")) # This LSTM layer now receives a 3D input\n",
        "\n",
        "# Output layer for fall prediction\n",
        "model.add(Dense(1, activation=\"sigmoid\"))\n",
        "\n",
        "# Model compilation\n",
        "model.compile(optimizer=\"adam\", loss=\"binary_crossentropy\", metrics=[\"accuracy\"])\n",
        "\n",
        "# Model training\n",
        "model.fit(X_train, y_train, epochs=50, validation_data=(X_test, y_test))\n",
        "\n",
        "# Evaluation on test set\n",
        "y_pred = model.predict(X_test)\n",
        "y_pred = (y_pred > 0.5).astype(int)  # Thresholding for class prediction\n",
        "\n",
        "loss, accuracy = model.evaluate(X_test)\n",
        "print(\"Test Accuracy:\", accuracy)\n",
        "\n",
        "\n",
        "recall = recall_score(y_test, y_pred)\n",
        "precision = precision_score(y_test, y_pred)\n",
        "f1 = f1_score(y_test, y_pred)\n",
        "\n",
        "print(\"Recall Score:\", recall)\n",
        "print(\"Precision Score:\", precision)\n",
        "print(\"F1 Score:\", f1)\n"
      ],
      "cell_type": "code",
      "metadata": {
        "colab": {
          "base_uri": "https://localhost:8080/"
        },
        "id": "ug_4aRqGR15V",
        "outputId": "025038e2-3643-4b81-dbfd-9454ef8fc704"
      },
      "execution_count": 14,
      "outputs": [
        {
          "output_type": "stream",
          "name": "stderr",
          "text": [
            "/usr/local/lib/python3.10/dist-packages/sklearn/preprocessing/_label.py:116: DataConversionWarning: A column-vector y was passed when a 1d array was expected. Please change the shape of y to (n_samples, ), for example using ravel().\n",
            "  y = column_or_1d(y, warn=True)\n"
          ]
        },
        {
          "output_type": "stream",
          "name": "stdout",
          "text": [
            "Epoch 1/50\n",
            "115/115 [==============================] - 10s 28ms/step - loss: 33644.5391 - accuracy: 0.6896 - val_loss: 7446.3584 - val_accuracy: 0.7650\n",
            "Epoch 2/50\n",
            "115/115 [==============================] - 3s 24ms/step - loss: 27549.7832 - accuracy: 0.6984 - val_loss: 30203.5449 - val_accuracy: 0.7760\n",
            "Epoch 3/50\n",
            "115/115 [==============================] - 3s 23ms/step - loss: 39842.7539 - accuracy: 0.6560 - val_loss: 11561.0977 - val_accuracy: 0.6186\n",
            "Epoch 4/50\n",
            "115/115 [==============================] - 4s 32ms/step - loss: 45737.9805 - accuracy: 0.6913 - val_loss: 10524.9062 - val_accuracy: 0.7683\n",
            "Epoch 5/50\n",
            "115/115 [==============================] - 4s 34ms/step - loss: 24362.4453 - accuracy: 0.6888 - val_loss: 25631.5059 - val_accuracy: 0.6492\n",
            "Epoch 6/50\n",
            "115/115 [==============================] - 3s 23ms/step - loss: 30671.7637 - accuracy: 0.7104 - val_loss: 7582.4097 - val_accuracy: 0.7978\n",
            "Epoch 7/50\n",
            "115/115 [==============================] - 3s 23ms/step - loss: 23119.0234 - accuracy: 0.6593 - val_loss: 2576.2339 - val_accuracy: 0.7213\n",
            "Epoch 8/50\n",
            "115/115 [==============================] - 3s 25ms/step - loss: 34940.7383 - accuracy: 0.6997 - val_loss: 5369.9980 - val_accuracy: 0.7792\n",
            "Epoch 9/50\n",
            "115/115 [==============================] - 4s 33ms/step - loss: 21638.0742 - accuracy: 0.7087 - val_loss: 1008.1768 - val_accuracy: 0.6186\n",
            "Epoch 10/50\n",
            "115/115 [==============================] - 4s 33ms/step - loss: 6931.5952 - accuracy: 0.7180 - val_loss: 722.4484 - val_accuracy: 0.7486\n",
            "Epoch 11/50\n",
            "115/115 [==============================] - 3s 23ms/step - loss: 14861.8232 - accuracy: 0.7126 - val_loss: 3885.9495 - val_accuracy: 0.8033\n",
            "Epoch 12/50\n",
            "115/115 [==============================] - 3s 23ms/step - loss: 3852.7146 - accuracy: 0.7120 - val_loss: 3.4536 - val_accuracy: 0.8044\n",
            "Epoch 13/50\n",
            "115/115 [==============================] - 3s 24ms/step - loss: 3598.0972 - accuracy: 0.7366 - val_loss: 4140.0640 - val_accuracy: 0.7213\n",
            "Epoch 14/50\n",
            "115/115 [==============================] - 4s 31ms/step - loss: 15488.6318 - accuracy: 0.7339 - val_loss: 67.0552 - val_accuracy: 0.7082\n",
            "Epoch 15/50\n",
            "115/115 [==============================] - 4s 33ms/step - loss: 7152.8066 - accuracy: 0.7358 - val_loss: 237.1575 - val_accuracy: 0.7650\n",
            "Epoch 16/50\n",
            "115/115 [==============================] - 2s 22ms/step - loss: 3233.8000 - accuracy: 0.7380 - val_loss: 405.5768 - val_accuracy: 0.8033\n",
            "Epoch 17/50\n",
            "115/115 [==============================] - 2s 22ms/step - loss: 5729.7119 - accuracy: 0.7391 - val_loss: 1289.4170 - val_accuracy: 0.7770\n",
            "Epoch 18/50\n",
            "115/115 [==============================] - 3s 22ms/step - loss: 4748.7061 - accuracy: 0.7180 - val_loss: 920.0358 - val_accuracy: 0.8066\n",
            "Epoch 19/50\n",
            "115/115 [==============================] - 3s 25ms/step - loss: 2490.6448 - accuracy: 0.7175 - val_loss: 2229.2039 - val_accuracy: 0.7191\n",
            "Epoch 20/50\n",
            "115/115 [==============================] - 4s 37ms/step - loss: 5522.1050 - accuracy: 0.7393 - val_loss: 279.7212 - val_accuracy: 0.7913\n",
            "Epoch 21/50\n",
            "115/115 [==============================] - 3s 23ms/step - loss: 3385.0269 - accuracy: 0.7593 - val_loss: 19.8464 - val_accuracy: 0.8164\n",
            "Epoch 22/50\n",
            "115/115 [==============================] - 2s 22ms/step - loss: 16164.1572 - accuracy: 0.7464 - val_loss: 1169.1721 - val_accuracy: 0.7344\n",
            "Epoch 23/50\n",
            "115/115 [==============================] - 3s 23ms/step - loss: 7268.3154 - accuracy: 0.7478 - val_loss: 126.1816 - val_accuracy: 0.8087\n",
            "Epoch 24/50\n",
            "115/115 [==============================] - 3s 22ms/step - loss: 7231.9546 - accuracy: 0.7383 - val_loss: 429.7531 - val_accuracy: 0.7716\n",
            "Epoch 25/50\n",
            "115/115 [==============================] - 4s 37ms/step - loss: 3799.7366 - accuracy: 0.7145 - val_loss: 1534.6710 - val_accuracy: 0.7639\n",
            "Epoch 26/50\n",
            "115/115 [==============================] - 3s 23ms/step - loss: 2060.2727 - accuracy: 0.7180 - val_loss: 77.1840 - val_accuracy: 0.7344\n",
            "Epoch 27/50\n",
            "115/115 [==============================] - 3s 23ms/step - loss: 1255.9725 - accuracy: 0.7333 - val_loss: 595.2444 - val_accuracy: 0.7967\n",
            "Epoch 28/50\n",
            "115/115 [==============================] - 3s 23ms/step - loss: 1015.3067 - accuracy: 0.7516 - val_loss: 738.3583 - val_accuracy: 0.8208\n",
            "Epoch 29/50\n",
            "115/115 [==============================] - 3s 22ms/step - loss: 2019.4950 - accuracy: 0.7309 - val_loss: 797.5047 - val_accuracy: 0.7148\n",
            "Epoch 30/50\n",
            "115/115 [==============================] - 4s 37ms/step - loss: 1136.3997 - accuracy: 0.7454 - val_loss: 1579.4969 - val_accuracy: 0.8000\n",
            "Epoch 31/50\n",
            "115/115 [==============================] - 3s 26ms/step - loss: 5101.5581 - accuracy: 0.7645 - val_loss: 219.8254 - val_accuracy: 0.8120\n",
            "Epoch 32/50\n",
            "115/115 [==============================] - 3s 23ms/step - loss: 794.8682 - accuracy: 0.7746 - val_loss: 86.7025 - val_accuracy: 0.8230\n",
            "Epoch 33/50\n",
            "115/115 [==============================] - 3s 22ms/step - loss: 2180.3469 - accuracy: 0.7975 - val_loss: 99.9583 - val_accuracy: 0.8186\n",
            "Epoch 34/50\n",
            "115/115 [==============================] - 3s 24ms/step - loss: 1097.2704 - accuracy: 0.8033 - val_loss: 157.1181 - val_accuracy: 0.8164\n",
            "Epoch 35/50\n",
            "115/115 [==============================] - 4s 36ms/step - loss: 574.2958 - accuracy: 0.8123 - val_loss: 256.2895 - val_accuracy: 0.8262\n",
            "Epoch 36/50\n",
            "115/115 [==============================] - 3s 24ms/step - loss: 257.5805 - accuracy: 0.8128 - val_loss: 57.0969 - val_accuracy: 0.8230\n",
            "Epoch 37/50\n",
            "115/115 [==============================] - 3s 22ms/step - loss: 406.0677 - accuracy: 0.8044 - val_loss: 36.0577 - val_accuracy: 0.8251\n",
            "Epoch 38/50\n",
            "115/115 [==============================] - 2s 22ms/step - loss: 179.1514 - accuracy: 0.8041 - val_loss: 319.7236 - val_accuracy: 0.8251\n",
            "Epoch 39/50\n",
            "115/115 [==============================] - 3s 23ms/step - loss: 378.5346 - accuracy: 0.8079 - val_loss: 400.4603 - val_accuracy: 0.8153\n",
            "Epoch 40/50\n",
            "115/115 [==============================] - 4s 35ms/step - loss: 216.5175 - accuracy: 0.8115 - val_loss: 325.9362 - val_accuracy: 0.8197\n",
            "Epoch 41/50\n",
            "115/115 [==============================] - 3s 29ms/step - loss: 344.9552 - accuracy: 0.8115 - val_loss: 390.7132 - val_accuracy: 0.8175\n",
            "Epoch 42/50\n",
            "115/115 [==============================] - 3s 23ms/step - loss: 462.5975 - accuracy: 0.7904 - val_loss: 7.2662 - val_accuracy: 0.8164\n",
            "Epoch 43/50\n",
            "115/115 [==============================] - 3s 22ms/step - loss: 487.1343 - accuracy: 0.7893 - val_loss: 106.6292 - val_accuracy: 0.8219\n",
            "Epoch 44/50\n",
            "115/115 [==============================] - 3s 23ms/step - loss: 285.9421 - accuracy: 0.8104 - val_loss: 89.1814 - val_accuracy: 0.8208\n",
            "Epoch 45/50\n",
            "115/115 [==============================] - 4s 36ms/step - loss: 165.7076 - accuracy: 0.8068 - val_loss: 78.7072 - val_accuracy: 0.8240\n",
            "Epoch 46/50\n",
            "115/115 [==============================] - 4s 39ms/step - loss: 298.8000 - accuracy: 0.8030 - val_loss: 0.4537 - val_accuracy: 0.8230\n",
            "Epoch 47/50\n",
            "115/115 [==============================] - 4s 35ms/step - loss: 111.5877 - accuracy: 0.8005 - val_loss: 137.8063 - val_accuracy: 0.8142\n",
            "Epoch 48/50\n",
            "115/115 [==============================] - 3s 23ms/step - loss: 1118.1740 - accuracy: 0.8057 - val_loss: 1.1470 - val_accuracy: 0.8087\n",
            "Epoch 49/50\n",
            "115/115 [==============================] - 4s 31ms/step - loss: 95.2867 - accuracy: 0.8096 - val_loss: 19.1895 - val_accuracy: 0.7967\n",
            "Epoch 50/50\n",
            "115/115 [==============================] - 4s 33ms/step - loss: 144.5037 - accuracy: 0.8101 - val_loss: 269.9666 - val_accuracy: 0.8197\n",
            "29/29 [==============================] - 1s 9ms/step\n",
            "29/29 [==============================] - 1s 10ms/step - loss: 0.0000e+00 - accuracy: 0.0000e+00\n",
            "Test Accuracy: 0.0\n",
            "Recall Score: 0.9907407407407407\n",
            "Precision Score: 0.8257993384785005\n",
            "F1 Score: 0.9007817197835236\n"
          ]
        }
      ]
    }
  ]
}